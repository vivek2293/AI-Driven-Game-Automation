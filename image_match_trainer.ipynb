{
 "cells": [
  {
   "cell_type": "code",
   "execution_count": 2,
   "metadata": {},
   "outputs": [],
   "source": [
    "import pyautogui\n",
    "from PIL import Image, ImageTk\n",
    "import tkinter as tk # screen replay\n",
    "import cv2\n",
    "import numpy as np"
   ]
  },
  {
   "cell_type": "code",
   "execution_count": 3,
   "metadata": {},
   "outputs": [],
   "source": [
    "def matchImage(pattern_url, screenshot_url, threshold, lower_range, upper_range, rect_color):\n",
    "    # Target is in gray already preprocessed beforehand\n",
    "    pattern_cv2 = cv2.imread(pattern_url)\n",
    "    tar_gray = cv2.cvtColor(pattern_cv2, cv2.COLOR_BGR2GRAY)\n",
    "\n",
    "\n",
    "    # Convert to HSV Color Space:\n",
    "    screenshot_cv2 = cv2.imread(screenshot_url)\n",
    "    hsv_image = cv2.cvtColor(screenshot_cv2, cv2.COLOR_BGR2HSV)\n",
    "\n",
    "    # Create and apply the mask:\n",
    "    mask = cv2.inRange(hsv_image, lower_range, upper_range)\n",
    "    areas = cv2.bitwise_and(screenshot_cv2, screenshot_cv2, mask=mask)\n",
    "    \n",
    "    # Grayscale to remove noise:\n",
    "    gray_image = cv2.cvtColor(areas, cv2.COLOR_BGR2GRAY)\n",
    "    \n",
    "    # Template Matching:\n",
    "    result = cv2.matchTemplate(gray_image, tar_gray, cv2.TM_CCOEFF_NORMED)\n",
    "\n",
    "    is_found = False\n",
    "    loc = np.where(result >= threshold)\n",
    "    \n",
    "    # Now Aiming is complete fire down\n",
    "    if(len(loc[0]) > 0):\n",
    "        is_found = True\n",
    "        pt = (loc[1][0], loc[0][0])  # Take the first match\n",
    "        cv2.rectangle(screenshot_cv2, pt, (pt[0] + pattern_cv2.shape[1], pt[1] + pattern_cv2.shape[0]), rect_color, 2)\n",
    "    \n",
    "    return screenshot_cv2, is_found"
   ]
  },
  {
   "cell_type": "code",
   "execution_count": 4,
   "metadata": {},
   "outputs": [],
   "source": [
    "def checkRadar(pattern_url, screenshot_url, threshold, lower_range, upper_range, rect_color):\n",
    "    # Target is in gray already preprocessed beforehand\n",
    "    pattern_cv2 = cv2.imread(pattern_url)\n",
    "    tar_gray = cv2.cvtColor(pattern_cv2, cv2.COLOR_BGR2GRAY)\n",
    "\n",
    "\n",
    "    # Convert to HSV Color Space:\n",
    "    screenshot_cv2 = cv2.imread(screenshot_url)\n",
    "    height, width, _ = screenshot_cv2.shape\n",
    "    \n",
    "    # Calculate the cropping dimensions\n",
    "    crop_top_percentage = 0.4\n",
    "    crop_left_percentage = 0.25\n",
    "    crop_top = int(height * crop_top_percentage)\n",
    "    crop_left = int(width * crop_left_percentage)\n",
    "\n",
    "    \n",
    "    # Define the cropping percentages\n",
    "    screenshot_cv2 = screenshot_cv2[:crop_top, :crop_left]    \n",
    "    hsv_image = cv2.cvtColor(screenshot_cv2, cv2.COLOR_BGR2HSV)\n",
    "\n",
    "\n",
    "    # Define a Color Range:\n",
    "    mask = cv2.inRange(hsv_image, lower_range, upper_range)\n",
    "    \n",
    "    # Apply the Mask:\n",
    "    areas = cv2.bitwise_and(screenshot_cv2, screenshot_cv2, mask=mask)\n",
    "    \n",
    "    # Grayscale to remove noise:\n",
    "    gray_image = cv2.cvtColor(areas, cv2.COLOR_BGR2GRAY)\n",
    "    \n",
    "    # Template Matching:\n",
    "    result = cv2.matchTemplate(gray_image, tar_gray, cv2.TM_CCOEFF_NORMED)\n",
    "\n",
    "    is_found = False\n",
    "    loc = np.where(result >= threshold)\n",
    "    \n",
    "    # Now Aiming is complete fire down\n",
    "    if(len(loc[0]) > 0):\n",
    "        is_found = True\n",
    "        pt = (loc[1][0], loc[0][0])  # Take the first match\n",
    "        cv2.rectangle(screenshot_cv2, pt, (pt[0] + pattern_cv2.shape[1], pt[1] + pattern_cv2.shape[0]), rect_color, 2)\n",
    "    \n",
    "    return screenshot_cv2, is_found\n"
   ]
  },
  {
   "cell_type": "code",
   "execution_count": 5,
   "metadata": {},
   "outputs": [],
   "source": [
    "# AIM DETECTOR\n",
    "result_images = []\n",
    "for i in range(1, 7):\n",
    "    img, is_present = matchImage(\"./images/aim_complete.png\", \"./Aim_train/\"+str(i)+\".png\", 0.25, np.array([50, 218, 183]),  np.array([175, 255, 255]), (0, 0, 255));\n",
    "    if is_present:\n",
    "        result_images.append(img)\n",
    "\n",
    "for idx, result_image in enumerate(result_images, start=1):\n",
    "    cv2.imshow(f\"Matching Result {idx}\", result_image)\n",
    "\n",
    "cv2.waitKey(0)\n",
    "cv2.destroyAllWindows()"
   ]
  },
  {
   "cell_type": "code",
   "execution_count": 9,
   "metadata": {},
   "outputs": [],
   "source": [
    "# ENEMY \n",
    "result_images = []\n",
    "for i in range(1, 7):\n",
    "    img, is_present = matchImage(\"./images/probable_enemy.png\", \"./Aim_train/\"+str(i)+\".png\", 0.85, np.array([0, 187, 230]),  np.array([0, 255, 255]), (255, 0, 0))\n",
    "    if is_present:\n",
    "        result_images.append(img)\n",
    "\n",
    "for idx, result_image in enumerate(result_images, start=1):\n",
    "    cv2.imshow(f\"Matching Result {idx}\", result_image)\n",
    "\n",
    "cv2.waitKey(0)\n",
    "cv2.destroyAllWindows()"
   ]
  },
  {
   "cell_type": "code",
   "execution_count": null,
   "metadata": {},
   "outputs": [],
   "source": [
    "# ENEMY ON RADAR\n",
    "result_images = []\n",
    "for i in range(1, 7):\n",
    "    img, is_present = checkRadar(\"./images/radar_tracker.png\", \"./Aim_train/\"+str(i)+\".png\", 0.17, np.array([0, 187, 230]),  np.array([0, 255, 255]), (0, 255, 0))\n",
    "    if is_present:\n",
    "        result_images.append(img)\n",
    "\n",
    "for idx, result_image in enumerate(result_images, start=1):\n",
    "    cv2.imshow(f\"Matching Result {idx}\", result_image)\n",
    "\n",
    "cv2.waitKey(0)\n",
    "cv2.destroyAllWindows()"
   ]
  },
  {
   "cell_type": "code",
   "execution_count": 10,
   "metadata": {},
   "outputs": [],
   "source": [
    "# Collision detection\n",
    "result_images = []\n",
    "for i in range(1, 5):\n",
    "    img, is_present = matchImage(\"./images/collide_tracker.png\", \"./Collide_train/\"+str(i)+\".png\", 0.50, np.array([0, 0, 145]),  np.array([161, 43, 255]), (0, 255, 0))\n",
    "    if is_present:\n",
    "        result_images.append(img)\n",
    "\n",
    "for idx, result_image in enumerate(result_images, start=1):\n",
    "    cv2.imshow(f\"Matching Result {idx}\", result_image)\n",
    "\n",
    "cv2.waitKey(0)\n",
    "cv2.destroyAllWindows()"
   ]
  }
 ],
 "metadata": {
  "kernelspec": {
   "display_name": "Python 3 (ipykernel)",
   "language": "python",
   "name": "python3"
  },
  "language_info": {
   "codemirror_mode": {
    "name": "ipython",
    "version": 3
   },
   "file_extension": ".py",
   "mimetype": "text/x-python",
   "name": "python",
   "nbconvert_exporter": "python",
   "pygments_lexer": "ipython3",
   "version": "3.11.8"
  }
 },
 "nbformat": 4,
 "nbformat_minor": 4
}
